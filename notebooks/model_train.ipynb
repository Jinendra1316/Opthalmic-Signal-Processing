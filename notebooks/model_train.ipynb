{
 "cells": [
  {
   "cell_type": "code",
   "execution_count": 83,
   "id": "03fd48f7",
   "metadata": {},
   "outputs": [],
   "source": [
    "import os\n",
    "import pandas as pd\n",
    "import numpy as np\n",
    "from sklearn.model_selection import train_test_split, StratifiedKFold\n",
    "from sklearn.preprocessing import StandardScaler\n",
    "from sklearn.metrics import accuracy_score, f1_score, roc_auc_score, mean_squared_error, r2_score\n",
    "from sklearn.linear_model import LogisticRegression\n",
    "from sklearn.ensemble import RandomForestClassifier\n",
    "from sklearn.svm import SVC\n",
    "from sklearn.model_selection import GridSearchCV\n",
    "\n",
    "import torch\n",
    "import torch.nn as nn\n",
    "from torch.utils.data import DataLoader, Dataset, TensorDataset\n",
    "from xgboost import XGBClassifier"
   ]
  },
  {
   "cell_type": "code",
   "execution_count": 84,
   "id": "18d502b9",
   "metadata": {},
   "outputs": [
    {
     "name": "stdout",
     "output_type": "stream",
     "text": [
      "Features shape: (1354, 23)\n"
     ]
    },
    {
     "data": {
      "text/html": [
       "<div>\n",
       "<style scoped>\n",
       "    .dataframe tbody tr th:only-of-type {\n",
       "        vertical-align: middle;\n",
       "    }\n",
       "\n",
       "    .dataframe tbody tr th {\n",
       "        vertical-align: top;\n",
       "    }\n",
       "\n",
       "    .dataframe thead th {\n",
       "        text-align: right;\n",
       "    }\n",
       "</style>\n",
       "<table border=\"1\" class=\"dataframe\">\n",
       "  <thead>\n",
       "    <tr style=\"text-align: right;\">\n",
       "      <th></th>\n",
       "      <th>record_id</th>\n",
       "      <th>eye</th>\n",
       "      <th>N35_amp</th>\n",
       "      <th>N35_ms</th>\n",
       "      <th>P50_amp</th>\n",
       "      <th>P50_ms</th>\n",
       "      <th>N95_amp</th>\n",
       "      <th>N95_ms</th>\n",
       "      <th>N95P50_ratio</th>\n",
       "      <th>mean</th>\n",
       "      <th>...</th>\n",
       "      <th>median</th>\n",
       "      <th>ptp</th>\n",
       "      <th>rms</th>\n",
       "      <th>kurt</th>\n",
       "      <th>skew</th>\n",
       "      <th>zcr</th>\n",
       "      <th>peak_freq</th>\n",
       "      <th>total_power</th>\n",
       "      <th>bp_1_30</th>\n",
       "      <th>bp_8_16</th>\n",
       "    </tr>\n",
       "  </thead>\n",
       "  <tbody>\n",
       "    <tr>\n",
       "      <th>0</th>\n",
       "      <td>1</td>\n",
       "      <td>RE</td>\n",
       "      <td>-0.408717</td>\n",
       "      <td>28.9</td>\n",
       "      <td>2.199887</td>\n",
       "      <td>52.5</td>\n",
       "      <td>-1.716555</td>\n",
       "      <td>91.5</td>\n",
       "      <td>0.780293</td>\n",
       "      <td>5.572884e-17</td>\n",
       "      <td>...</td>\n",
       "      <td>-0.032117</td>\n",
       "      <td>3.916442</td>\n",
       "      <td>1.0</td>\n",
       "      <td>-0.217159</td>\n",
       "      <td>0.453907</td>\n",
       "      <td>0.015686</td>\n",
       "      <td>13.333333</td>\n",
       "      <td>0.241531</td>\n",
       "      <td>1.207930</td>\n",
       "      <td>0.0</td>\n",
       "    </tr>\n",
       "    <tr>\n",
       "      <th>1</th>\n",
       "      <td>1</td>\n",
       "      <td>LE</td>\n",
       "      <td>-0.712719</td>\n",
       "      <td>29.5</td>\n",
       "      <td>2.394248</td>\n",
       "      <td>53.7</td>\n",
       "      <td>-1.588476</td>\n",
       "      <td>92.1</td>\n",
       "      <td>0.663455</td>\n",
       "      <td>-1.114577e-16</td>\n",
       "      <td>...</td>\n",
       "      <td>-0.236019</td>\n",
       "      <td>3.982724</td>\n",
       "      <td>1.0</td>\n",
       "      <td>0.084987</td>\n",
       "      <td>0.844791</td>\n",
       "      <td>0.011765</td>\n",
       "      <td>13.333333</td>\n",
       "      <td>0.237099</td>\n",
       "      <td>1.250359</td>\n",
       "      <td>0.0</td>\n",
       "    </tr>\n",
       "    <tr>\n",
       "      <th>2</th>\n",
       "      <td>2</td>\n",
       "      <td>RE</td>\n",
       "      <td>-0.045393</td>\n",
       "      <td>31.9</td>\n",
       "      <td>1.063206</td>\n",
       "      <td>46.6</td>\n",
       "      <td>-1.188255</td>\n",
       "      <td>111.6</td>\n",
       "      <td>1.117615</td>\n",
       "      <td>-5.572884e-17</td>\n",
       "      <td>...</td>\n",
       "      <td>0.088699</td>\n",
       "      <td>3.294507</td>\n",
       "      <td>1.0</td>\n",
       "      <td>-1.371636</td>\n",
       "      <td>-0.063129</td>\n",
       "      <td>0.011765</td>\n",
       "      <td>6.666667</td>\n",
       "      <td>0.083373</td>\n",
       "      <td>0.360900</td>\n",
       "      <td>0.0</td>\n",
       "    </tr>\n",
       "    <tr>\n",
       "      <th>3</th>\n",
       "      <td>2</td>\n",
       "      <td>LE</td>\n",
       "      <td>NaN</td>\n",
       "      <td>NaN</td>\n",
       "      <td>NaN</td>\n",
       "      <td>NaN</td>\n",
       "      <td>-1.327168</td>\n",
       "      <td>92.1</td>\n",
       "      <td>NaN</td>\n",
       "      <td>2.716781e-16</td>\n",
       "      <td>...</td>\n",
       "      <td>-0.414977</td>\n",
       "      <td>3.674116</td>\n",
       "      <td>1.0</td>\n",
       "      <td>-0.869275</td>\n",
       "      <td>0.661798</td>\n",
       "      <td>0.007843</td>\n",
       "      <td>6.666667</td>\n",
       "      <td>0.105886</td>\n",
       "      <td>0.245580</td>\n",
       "      <td>0.0</td>\n",
       "    </tr>\n",
       "    <tr>\n",
       "      <th>4</th>\n",
       "      <td>2</td>\n",
       "      <td>RE</td>\n",
       "      <td>-1.622818</td>\n",
       "      <td>42.5</td>\n",
       "      <td>NaN</td>\n",
       "      <td>NaN</td>\n",
       "      <td>-1.363470</td>\n",
       "      <td>102.1</td>\n",
       "      <td>NaN</td>\n",
       "      <td>2.786442e-16</td>\n",
       "      <td>...</td>\n",
       "      <td>-0.168620</td>\n",
       "      <td>4.387108</td>\n",
       "      <td>1.0</td>\n",
       "      <td>0.445414</td>\n",
       "      <td>0.855903</td>\n",
       "      <td>0.031373</td>\n",
       "      <td>13.333333</td>\n",
       "      <td>0.086280</td>\n",
       "      <td>0.320347</td>\n",
       "      <td>0.0</td>\n",
       "    </tr>\n",
       "  </tbody>\n",
       "</table>\n",
       "<p>5 rows × 23 columns</p>\n",
       "</div>"
      ],
      "text/plain": [
       "   record_id eye   N35_amp  N35_ms   P50_amp  P50_ms   N95_amp  N95_ms  \\\n",
       "0          1  RE -0.408717    28.9  2.199887    52.5 -1.716555    91.5   \n",
       "1          1  LE -0.712719    29.5  2.394248    53.7 -1.588476    92.1   \n",
       "2          2  RE -0.045393    31.9  1.063206    46.6 -1.188255   111.6   \n",
       "3          2  LE       NaN     NaN       NaN     NaN -1.327168    92.1   \n",
       "4          2  RE -1.622818    42.5       NaN     NaN -1.363470   102.1   \n",
       "\n",
       "   N95P50_ratio          mean  ...    median       ptp  rms      kurt  \\\n",
       "0      0.780293  5.572884e-17  ... -0.032117  3.916442  1.0 -0.217159   \n",
       "1      0.663455 -1.114577e-16  ... -0.236019  3.982724  1.0  0.084987   \n",
       "2      1.117615 -5.572884e-17  ...  0.088699  3.294507  1.0 -1.371636   \n",
       "3           NaN  2.716781e-16  ... -0.414977  3.674116  1.0 -0.869275   \n",
       "4           NaN  2.786442e-16  ... -0.168620  4.387108  1.0  0.445414   \n",
       "\n",
       "       skew       zcr  peak_freq  total_power   bp_1_30  bp_8_16  \n",
       "0  0.453907  0.015686  13.333333     0.241531  1.207930      0.0  \n",
       "1  0.844791  0.011765  13.333333     0.237099  1.250359      0.0  \n",
       "2 -0.063129  0.011765   6.666667     0.083373  0.360900      0.0  \n",
       "3  0.661798  0.007843   6.666667     0.105886  0.245580      0.0  \n",
       "4  0.855903  0.031373  13.333333     0.086280  0.320347      0.0  \n",
       "\n",
       "[5 rows x 23 columns]"
      ]
     },
     "execution_count": 84,
     "metadata": {},
     "output_type": "execute_result"
    }
   ],
   "source": [
    "features_path = 'D:/perg/outputs/features/perg_features.csv'\n",
    "features_df = pd.read_csv(features_path)\n",
    "print('Features shape:', features_df.shape)\n",
    "features_df.head()"
   ]
  },
  {
   "cell_type": "code",
   "execution_count": 85,
   "metadata": {},
   "outputs": [
    {
     "name": "stdout",
     "output_type": "stream",
     "text": [
      "Metadata shape: (336, 12)\n"
     ]
    }
   ],
   "source": [
    "metadata_path = 'D:/perg/data/raw/participants_info.csv'\n",
    "metadata = pd.read_csv(metadata_path)\n",
    "print('Metadata shape:', metadata.shape)"
   ]
  },
  {
   "cell_type": "code",
   "execution_count": 86,
   "id": "5611c39c",
   "metadata": {},
   "outputs": [
    {
     "name": "stdout",
     "output_type": "stream",
     "text": [
      "Merged data shape: (1354, 35)\n"
     ]
    }
   ],
   "source": [
    "# Merge features with labels\n",
    "# Example: merge on 'record_id'. Map diagnosis or visual acuity as label.\n",
    "data = features_df.merge(metadata, how='inner', left_on='record_id', right_on='id_record')\n",
    "print('Merged data shape:', data.shape)"
   ]
  },
  {
   "cell_type": "code",
   "execution_count": 87,
   "id": "dff5bfb0",
   "metadata": {},
   "outputs": [],
   "source": [
    "# Classification target (Normal vs Abnormal)\n",
    "data['label'] = data['diagnosis1'].apply(lambda x: 0 if x.lower() == 'normal' else 1)"
   ]
  },
  {
   "cell_type": "code",
   "execution_count": 88,
   "id": "4476e021",
   "metadata": {},
   "outputs": [],
   "source": [
    "# Regression target (LogMAR visual acuity average for eyes)\n",
    "data['logmar'] = data[['va_re_logMar', 'va_le_logMar']].mean(axis=1)"
   ]
  },
  {
   "cell_type": "code",
   "execution_count": 89,
   "id": "7e3d2406",
   "metadata": {},
   "outputs": [],
   "source": [
    "# Cell 5: Select features & labels for classification\n",
    "feature_columns = [\n",
    "    'N35_amp', 'P50_amp', 'N95_amp',\n",
    "    'N35_ms', 'P50_ms', 'N95_ms',\n",
    "    'N95P50_ratio',\n",
    "    'mean', 'std', 'min', 'max', 'median',\n",
    "    'ptp', 'rms', 'skew', 'kurt', 'zcr',\n",
    "    'bp_1_30', 'bp_8_16',\n",
    "    'peak_freq', 'total_power'\n",
    "]\n",
    "X = data[feature_columns].fillna(0).values\n",
    "y_cls = data['label'].values\n",
    "y_reg = data['logmar'].values"
   ]
  },
  {
   "cell_type": "code",
   "execution_count": 90,
   "id": "679e4630",
   "metadata": {},
   "outputs": [],
   "source": [
    "# Standardize features for classical models\n",
    "scaler = StandardScaler()\n",
    "X_scaled = scaler.fit_transform(X)"
   ]
  },
  {
   "cell_type": "code",
   "execution_count": 91,
   "id": "ca207d24",
   "metadata": {},
   "outputs": [],
   "source": [
    "# Train/test split\n",
    "X_train, X_test, y_train, y_test = train_test_split(X_scaled, y_cls, test_size=0.4, random_state=42, stratify=y_cls)"
   ]
  },
  {
   "cell_type": "code",
   "execution_count": 92,
   "id": "3be267ea",
   "metadata": {},
   "outputs": [],
   "source": [
    "def evaluate_classification_model(model, X_train, y_train, X_test, y_test):\n",
    "    model.fit(X_train, y_train)\n",
    "    y_pred_train = model.predict(X_train)\n",
    "    y_pred_test = model.predict(X_test)\n",
    "    train_acc = accuracy_score(y_train, y_pred_train)\n",
    "    test_acc = accuracy_score(y_test, y_pred_test)\n",
    "    test_f1 = f1_score(y_test, y_pred_test)\n",
    "    print(f\"Train Acc: {train_acc:.4f}, Test Acc: {test_acc:.4f}, Test F1: {test_f1:.4f}\")"
   ]
  },
  {
   "cell_type": "code",
   "execution_count": 93,
   "id": "0a03d071",
   "metadata": {},
   "outputs": [
    {
     "name": "stdout",
     "output_type": "stream",
     "text": [
      "Logistic Regression\n",
      "Train Acc: 0.7143, Test Acc: 0.6937, Test F1: 0.8042\n"
     ]
    }
   ],
   "source": [
    "# Logistic Regression\n",
    "print(\"Logistic Regression\")\n",
    "logreg = LogisticRegression(max_iter=500)\n",
    "evaluate_classification_model(logreg, X_train, y_train, X_test, y_test)"
   ]
  },
  {
   "cell_type": "code",
   "execution_count": 94,
   "id": "f61930b0",
   "metadata": {},
   "outputs": [
    {
     "name": "stdout",
     "output_type": "stream",
     "text": [
      "Random Forest\n",
      "Train Acc: 0.9975, Test Acc: 0.7011, Test F1: 0.8034\n"
     ]
    }
   ],
   "source": [
    "# Random Forest\n",
    "print(\"Random Forest\")\n",
    "rf = RandomForestClassifier(n_estimators=500, max_depth=None, random_state=42)\n",
    "evaluate_classification_model(rf, X_train, y_train, X_test, y_test) "
   ]
  },
  {
   "cell_type": "code",
   "execution_count": 96,
   "id": "6d3581be",
   "metadata": {},
   "outputs": [
    {
     "name": "stdout",
     "output_type": "stream",
     "text": [
      "Fitting 5 folds for each of 25 candidates, totalling 125 fits\n",
      "Best Parameters: {'C': 100, 'gamma': 1, 'kernel': 'rbf'}\n",
      "Test Accuracy: 0.6974169741697417\n"
     ]
    }
   ],
   "source": [
    "param_grid = {\n",
    "    'C': [0.1, 1, 10, 100, 1000],\n",
    "    'gamma': [0.001, 0.01, 0.1, 1, 10],\n",
    "    'kernel': ['rbf']\n",
    "}\n",
    "\n",
    "svm = SVC(probability=True)\n",
    "\n",
    "# Grid search with 5-fold CV\n",
    "grid = GridSearchCV(svm, param_grid, refit=True, cv=5, n_jobs=-1, verbose=2)\n",
    "grid.fit(X_train, y_train)\n",
    "\n",
    "# Best parameters\n",
    "print(\"Best Parameters:\", grid.best_params_)\n",
    "\n",
    "# Evaluate on test set\n",
    "y_pred = grid.predict(X_test)\n",
    "print(\"Test Accuracy:\", accuracy_score(y_test, y_pred))\n"
   ]
  },
  {
   "cell_type": "code",
   "execution_count": 99,
   "id": "1f2ff83d",
   "metadata": {},
   "outputs": [
    {
     "name": "stdout",
     "output_type": "stream",
     "text": [
      "SVM\n",
      "Train Acc: 0.7229, Test Acc: 0.7085, Test F1: 0.8196\n"
     ]
    }
   ],
   "source": [
    "\n",
    "# SVM\n",
    "print(\"SVM\")\n",
    "svm = SVC(C=10, gamma=0.01, kernel='rbf', probability=True, random_state=42)\n",
    "evaluate_classification_model(svm, X_train, y_train, X_test, y_test)"
   ]
  },
  {
   "cell_type": "code",
   "execution_count": null,
   "id": "6969fc2f",
   "metadata": {},
   "outputs": [
    {
     "name": "stdout",
     "output_type": "stream",
     "text": [
      "XGBoost\n"
     ]
    },
    {
     "name": "stdout",
     "output_type": "stream",
     "text": [
      "Train Acc: 0.9975, Test Acc: 0.7066, Test F1: 0.8030\n"
     ]
    },
    {
     "name": "stderr",
     "output_type": "stream",
     "text": [
      "d:\\perg\\venv\\Lib\\site-packages\\xgboost\\training.py:183: UserWarning: [00:31:17] WARNING: C:\\actions-runner\\_work\\xgboost\\xgboost\\src\\learner.cc:738: \n",
      "Parameters: { \"use_label_encoder\" } are not used.\n",
      "\n",
      "  bst.update(dtrain, iteration=i, fobj=obj)\n"
     ]
    }
   ],
   "source": [
    "# XGBoost\n",
    "print(\"XGBoost\")\n",
    "xgb = XGBClassifier(\n",
    "    n_estimators=100,      # number of boosting rounds (trees)\n",
    "    learning_rate=0.1,     # step size shrinkage\n",
    "    max_depth=6,           # maximum depth of trees\n",
    "    subsample=0.8,         # subsample ratio for training instances\n",
    "    colsample_bytree=0.8,  # subsample ratio for features\n",
    "    use_label_encoder=False,\n",
    "    eval_metric='logloss',\n",
    "    random_state=42\n",
    ")\n",
    "\n",
    "evaluate_classification_model(xgb, X_train, y_train, X_test, y_test)"
   ]
  },
  {
   "cell_type": "code",
   "execution_count": null,
   "id": "e7471c05",
   "metadata": {},
   "outputs": [],
   "source": []
  }
 ],
 "metadata": {
  "kernelspec": {
   "display_name": "Python 3",
   "language": "python",
   "name": "python3"
  },
  "language_info": {
   "codemirror_mode": {
    "name": "ipython",
    "version": 3
   },
   "file_extension": ".py",
   "mimetype": "text/x-python",
   "name": "python",
   "nbconvert_exporter": "python",
   "pygments_lexer": "ipython3",
   "version": "3.11.0"
  }
 },
 "nbformat": 4,
 "nbformat_minor": 5
}
